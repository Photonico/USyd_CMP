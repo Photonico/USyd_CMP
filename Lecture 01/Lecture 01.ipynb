{
 "nbformat": 4,
 "nbformat_minor": 2,
 "metadata": {
  "language_info": {
   "name": "python",
   "codemirror_mode": {
    "name": "ipython",
    "version": 3
   }
  },
  "orig_nbformat": 2,
  "file_extension": ".py",
  "mimetype": "text/x-python",
  "name": "python",
  "npconvert_exporter": "python",
  "pygments_lexer": "ipython3",
  "version": 3
 },
 "cells": [
  {
   "cell_type": "markdown",
   "metadata": {},
   "source": [
    "# Condensed Matter Physics\n",
    "\n",
    "University of Sydney\n",
    "April 2020\n",
    "\n",
    "## Lecture 1\n",
    "Physics of solids without considering microscopic structure: Drude Theory, Free Electron Theory"
   ]
  },
  {
   "cell_type": "code",
   "execution_count": null,
   "metadata": {},
   "outputs": [],
   "source": [
    "# Python preparation\n",
    "\n",
    "import numpy as np\n",
    "import matplotlib.pyplot as plt"
   ]
  },
  {
   "cell_type": "markdown",
   "metadata": {},
   "source": [
    "### What is Condensed Matter Physics\n",
    "\n",
    "Condensed matter physics is the largest topic of research in physics today. It encompasses statistical mechanics and quantum physics of solids (solid state physics), but also describes liquids (magnetic vortex liquids is my speciality) and novel states of materials.\n",
    "\n",
    "#### Crystalline solids\n",
    "\n",
    "Crystalline Solids are solids with an atomic structure based on a regular repeated pattern.\n",
    "\n",
    "#### Drude picture of atom\n",
    "\n",
    "Valence atoms move freely through metal Ions remain intact, act as immobile positive particles\n",
    "\n"
   ]
  },
  {
   "cell_type": "code",
   "execution_count": null,
   "metadata": {},
   "outputs": [],
   "source": [
    "\n"
   ]
  }
 ]
}