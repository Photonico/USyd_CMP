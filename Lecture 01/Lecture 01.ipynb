{
 "nbformat": 4,
 "nbformat_minor": 2,
 "metadata": {
  "language_info": {
   "name": "python",
   "codemirror_mode": {
    "name": "ipython",
    "version": 3
   },
   "version": "3.7.6-final"
  },
  "orig_nbformat": 2,
  "file_extension": ".py",
  "mimetype": "text/x-python",
  "name": "python",
  "npconvert_exporter": "python",
  "pygments_lexer": "ipython3",
  "version": 3,
  "kernelspec": {
   "name": "python37664bitadd2d29322fc4c69b2fa8d1ba2d3991d",
   "display_name": "Python 3.7.6 64-bit"
  }
 },
 "cells": [
  {
   "cell_type": "markdown",
   "metadata": {},
   "source": [
    "# Condensed Matter Physics\n",
    "\n",
    "University of Sydney\n",
    "April 2020\n",
    "\n",
    "## Lecture 1\n",
    "Physics of solids without considering microscopic structure: Drude Theory, Free Electron Theory"
   ]
  },
  {
   "cell_type": "markdown",
   "metadata": {},
   "source": [
    "### What is Condensed Matter Physics\n",
    "\n",
    "Condensed matter physics is the largest topic of research in physics today. It encompasses statistical mechanics and quantum physics of solids (solid state physics), but also describes liquids (magnetic vortex liquids is my speciality) and novel states of materials.\n",
    "\n",
    "### Crystalline solids\n",
    "\n",
    "Crystalline Solids are solids with an atomic structure based on a regular repeated pattern.\n",
    "\n",
    "### Drude picture of atom\n",
    "\n",
    "Valence atoms move freely through metal Ions remain intact, act as immobile positive particles\n",
    "\n",
    "### Drude's classical theory\n",
    "\n",
    "Theory by Paul Drude in 1900, three years after the electron was discovered.\n",
    "\n",
    "Drude treated the (free) electrons as a classical ideal gas but the electrons collide with the stationary ions, not with each other. no interaction with each other, independent electron approximation interaction between electrons and core instantaneous and short range:\n",
    "\n",
    "$$\\frac{1}{2}mv_t^2=\\frac{3}{2}k_BT$$\n",
    "\n",
    "$$v_t=\\sqrt{\\frac{3k_BT}{m}}$$\n",
    "\n",
    "at room temperature, rms velocity: \n",
    "\n",
    "$$v_t \\approx 10^5ms^{-1}$$\n",
    "\n",
    "\n",
    "\n",
    "\n",
    "\n",
    "\n"
   ]
  },
  {
   "cell_type": "code",
   "execution_count": 2,
   "metadata": {},
   "outputs": [
    {
     "output_type": "error",
     "ename": "NameError",
     "evalue": "name 'formatter' is not defined",
     "traceback": [
      "\u001b[0;31m---------------------------------------------------------------------------\u001b[0m",
      "\u001b[0;31mNameError\u001b[0m                                 Traceback (most recent call last)",
      "\u001b[0;32m<ipython-input-2-53d76bfb71f6>\u001b[0m in \u001b[0;36m<module>\u001b[0;34m\u001b[0m\n\u001b[1;32m      7\u001b[0m \u001b[0;32mimport\u001b[0m \u001b[0mmatplotlib\u001b[0m\u001b[0;34m.\u001b[0m\u001b[0mpyplot\u001b[0m \u001b[0;32mas\u001b[0m \u001b[0mplt\u001b[0m\u001b[0;34m\u001b[0m\u001b[0;34m\u001b[0m\u001b[0m\n\u001b[1;32m      8\u001b[0m \u001b[0mplt\u001b[0m\u001b[0;34m.\u001b[0m\u001b[0mrc\u001b[0m\u001b[0;34m(\u001b[0m\u001b[0;34m'font'\u001b[0m\u001b[0;34m,\u001b[0m \u001b[0mfamily\u001b[0m\u001b[0;34m=\u001b[0m\u001b[0;34m'serif'\u001b[0m\u001b[0;34m)\u001b[0m\u001b[0;34m\u001b[0m\u001b[0;34m\u001b[0m\u001b[0m\n\u001b[0;32m----> 9\u001b[0;31m \u001b[0mformatter\u001b[0m\u001b[0;34m.\u001b[0m\u001b[0mset_powerlimits\u001b[0m\u001b[0;34m(\u001b[0m\u001b[0;34m(\u001b[0m\u001b[0;34m-\u001b[0m\u001b[0;36m1\u001b[0m\u001b[0;34m,\u001b[0m \u001b[0;36m1\u001b[0m\u001b[0;34m)\u001b[0m\u001b[0;34m)\u001b[0m\u001b[0;34m\u001b[0m\u001b[0;34m\u001b[0m\u001b[0m\n\u001b[0m\u001b[1;32m     10\u001b[0m \u001b[0;31m#plt.ticklabel_format(style='sci', axis='x', scilimits=(0,0))\u001b[0m\u001b[0;34m\u001b[0m\u001b[0;34m\u001b[0m\u001b[0;34m\u001b[0m\u001b[0m\n\u001b[1;32m     11\u001b[0m \u001b[0mplt\u001b[0m\u001b[0;34m.\u001b[0m\u001b[0mxlabel\u001b[0m\u001b[0;34m(\u001b[0m\u001b[0;34mr\"Temperature ($K$)\"\u001b[0m\u001b[0;34m)\u001b[0m\u001b[0;34m;\u001b[0m \u001b[0mplt\u001b[0m\u001b[0;34m.\u001b[0m\u001b[0mylabel\u001b[0m\u001b[0;34m(\u001b[0m\u001b[0;34mr\"Velocity ($ms^{-1}$)\"\u001b[0m\u001b[0;34m)\u001b[0m\u001b[0;34m\u001b[0m\u001b[0;34m\u001b[0m\u001b[0m\n",
      "\u001b[0;31mNameError\u001b[0m: name 'formatter' is not defined"
     ]
    }
   ],
   "source": [
    "import numpy as np\n",
    "T = np.arange(0,1000,1)\n",
    "k = 1.380649e-23\n",
    "m = np.matrix([2,28,32])*1.67e-27\n",
    "v = np.sqrt(3*k*T/m.T)\n",
    "\n",
    "import matplotlib.pyplot as plt\n",
    "plt.rc('font', family='serif')\n",
    "plt.ticklabel_format(style='sci', scilimits=(0,0))\n",
    "plt.xlabel(r\"Temperature ($K$)\"); plt.ylabel(r\"Velocity ($ms^{-1}$)\")\n",
    "plt.plot(T,np.array(v[0,:].T),label=\"Hydrogen\")\n",
    "plt.plot(T,np.array(v[1,:].T),label=\"Nitrogen\")\n",
    "plt.plot(T,np.array(v[2,:].T),label=\"Oxygen\")\n",
    "plt.legend(loc='best')"
   ]
  },
  {
   "cell_type": "markdown",
   "metadata": {},
   "source": [
    "#### 3 assumptions of Drude's classical theory\n",
    "\n",
    "1. Electrons have a scattering/relaxation time (average time between scattering events): $\\tau$;\n",
    "\n",
    "2. Scattered, electron returns to momentum $=0$;\n",
    "\n",
    "3. In between scattering events the electrons respond to E and B-fields.\n",
    "\n",
    "Mean free path: \n",
    "\n",
    "$$\\lambda = \\tau v_t$$"
   ]
  },
  {
   "cell_type": "code",
   "execution_count": null,
   "metadata": {},
   "outputs": [],
   "source": []
  },
  {
   "cell_type": "code",
   "execution_count": null,
   "metadata": {},
   "outputs": [],
   "source": []
  }
 ]
}