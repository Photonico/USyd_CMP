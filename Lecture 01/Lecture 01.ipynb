{
 "nbformat": 4,
 "nbformat_minor": 2,
 "metadata": {
  "language_info": {
   "name": "python",
   "codemirror_mode": {
    "name": "ipython",
    "version": 3
   },
   "version": "3.7.6-final"
  },
  "orig_nbformat": 2,
  "file_extension": ".py",
  "mimetype": "text/x-python",
  "name": "python",
  "npconvert_exporter": "python",
  "pygments_lexer": "ipython3",
  "version": 3,
  "kernelspec": {
   "name": "python37664bitadd2d29322fc4c69b2fa8d1ba2d3991d",
   "display_name": "Python 3.7.6 64-bit"
  }
 },
 "cells": [
  {
   "cell_type": "markdown",
   "metadata": {},
   "source": [
    "# Condensed Matter Physics\n",
    "\n",
    "University of Sydney\n",
    "April 2020\n",
    "\n",
    "## Lecture 1\n",
    "Physics of solids without considering microscopic structure: Drude Theory, Free Electron Theory"
   ]
  },
  {
   "cell_type": "markdown",
   "metadata": {},
   "source": [
    "### What is Condensed Matter Physics\n",
    "\n",
    "Condensed matter physics is the largest topic of research in physics today. It encompasses statistical mechanics and quantum physics of solids (solid state physics), but also describes liquids (magnetic vortex liquids is my speciality) and novel states of materials.\n",
    "\n",
    "#### Crystalline solids\n",
    "\n",
    "Crystalline Solids are solids with an atomic structure based on a regular repeated pattern.\n",
    "\n",
    "#### Drude picture of atom\n",
    "\n",
    "Valence atoms move freely through metal Ions remain intact, act as immobile positive particles\n",
    "\n",
    "#### Drude's classical theory\n",
    "\n",
    "Theory by Paul Drude in 1900, three years after the electron was discovered.\n",
    "\n",
    "Drude treated the (free) electrons as a classical ideal gas but the electrons collide with the stationary ions, not with each other. no interaction with each other, independent electron approximation interaction between electrons and core instantaneous and short range:\n",
    "\n",
    "$\\frac{1}{2}mv_t^2=\\frac{3}{2}k_BT$  \n",
    "$v_t^2=\\sqrt{\\frac{3k_BT}{m}}$    "
   ]
  },
  {
   "cell_type": "code",
   "execution_count": 2,
   "metadata": {},
   "outputs": [],
   "source": [
    "import numpy as np\n",
    "\n",
    "\n",
    "\n",
    "\n",
    "import matplotlib.pyplot as plt\n",
    "\n",
    ""
   ]
  }
 ]
}