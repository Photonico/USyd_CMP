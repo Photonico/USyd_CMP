{
 "nbformat": 4,
 "nbformat_minor": 2,
 "metadata": {
  "language_info": {
   "name": "python",
   "codemirror_mode": {
    "name": "ipython",
    "version": 3
   },
   "version": "3.8.5-final"
  },
  "orig_nbformat": 2,
  "file_extension": ".py",
  "mimetype": "text/x-python",
  "name": "python",
  "npconvert_exporter": "python",
  "pygments_lexer": "ipython3",
  "version": 3,
  "kernelspec": {
   "name": "Python 3.8.5 64-bit",
   "display_name": "Python 3.8.5 64-bit",
   "metadata": {
    "interpreter": {
     "hash": "aee8b7b246df8f9039afb4144a1f6fd8d2ca17a180786b69acc140d282b71a49"
    }
   }
  }
 },
 "cells": [
  {
   "source": [
    "# Condensed Matter Physics\n",
    "\n",
    "University of Sydney\n",
    "April 2020\n",
    "\n",
    "## Lecture 3\n",
    "Physics of solids without considering microscopic structure: Drude Theory, Free Electron Theory"
   ],
   "cell_type": "markdown",
   "metadata": {}
  },
  {
   "source": [
    "### The Fermi-Dirac Distribution\n",
    "\n",
    "In quantum statistics, a branch of physics, Fermi–Dirac statistics describe a distribution of particles over energy states in systems consisting of many identical particles that obey the Pauli exclusion principle. It is named after Enrico Fermi and Paul Dirac, each of whom discovered the method independently (although Fermi defined the statistics earlier than Dirac).\n",
    "\n",
    "Fermi–Dirac (F–D) statistics apply to identical particles with half-integer spin in a system with thermodynamic equilibrium. Additionally, the particles in this system are assumed to have negligible mutual interaction. That allows the multi-particle system to be described in terms of single-particle energy states. The result is the F–D distribution of particles over these states which includes the condition that no two particles can occupy the same state; this has a considerable effect on the properties of the system. Since F–D statistics apply to particles with half-integer spin, these particles have come to be called fermions. It is most commonly applied to electrons, a type of fermion with spin 1/2. Fermi–Dirac statistics are a part of the more general field of statistical mechanics and use the principles of quantum mechanics.\n",
    "\n",
    "The counterpart to F–D statistics is the Bose–Einstein statistics, that apply to bosons (full integer spin, such as photons, or no spin, like the Higgs boson), particles that do not follow the Pauli exclusion principle, meaning that more than one boson can take up the same quantum configuration simultaneously. \n",
    "\n",
    "For a system of identical fermions in thermodynamic equilibrium, the average number of fermions in a single-particle state i is given by a logistic function, or sigmoid function: the Fermi–Dirac (F–D) distribution, which is a special case of the complete Fermi–Dirac integral,\n",
    "\n",
    "$$ \\displaystyle{\\bar{n}}_{i} = \\frac{1}{e^{(E_i-\\mu)/k_BT}+1} $$\n",
    "\n",
    "where $k_B$ is Boltzmann's constant, $T$ is the absolute temperature, $E_i$ is the energy of the single-particle state $i$, and $\\mu$ is the total chemical potential. "
   ],
   "cell_type": "markdown",
   "metadata": {}
  },
  {
   "cell_type": "code",
   "execution_count": 16,
   "metadata": {},
   "outputs": [],
   "source": [
    "# The Fermi-Dirac Distribution\n",
    "\n",
    "import numpy as np\n",
    "e  = 2.71828182845904523536\n",
    "k  = 1.380649e-23\n",
    "\n",
    "v  = np.arange(0,2,0.01)\n",
    "a  = np.array([1000,100,10,1])\n",
    "\n",
    "n0 = 1/(e**a[0]*(v-1)+1)\n",
    "n1 = 1/(e**a[1]*(v-1)+1)\n",
    "n2 = 1/(e**a[2]*(v-1)+1)\n",
    "n3 = 1/(e**a[3]*(v-1)+1)\n",
    "\n",
    "import matplotlib; import matplotlib.pyplot as plt\n",
    "\n",
    "# params = {\"text.usetex\":True, \"font.family\":\"serif\", \"mathtext.fontset\":\"cm\", \"axes.titlesize\": 16, \"axes.labelsize\":14}\n",
    "# matplotlib.rcParams.update(params)\n",
    "\n",
    "# plt.ticklabel_format(style=\"sci\", scilimits=(0,0))\n",
    "# plt.title(\"Kinetic Theory of Gases\")\n",
    "# plt.xlabel(r\"Temperature ($\\rm{K}$)\"); plt.ylabel(r\"Melocule Velocity ($\\rm{ms^{-1}}$)\")\n",
    "# plt.plot(T,np.array(v[0,:].T),label=\"Hydrogen\")\n",
    "# plt.plot(T,np.array(v[1,:].T),label=\"Nitrogen\")\n",
    "# plt.plot(T,np.array(v[2,:].T),label=\"Oxygen\")\n",
    "# plt.legend(loc=\"best\")\n",
    "# plt.show()"
   ]
  },
  {
   "source": [
    "* At $T=0$ all the states are filled up to the highest occupied state. This state is called the Fermi energy $E_F$. It is equal to the chemical potential $\\mu$ at $T=0$\n"
   ],
   "cell_type": "markdown",
   "metadata": {}
  }
 ]
}