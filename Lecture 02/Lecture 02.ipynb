{
 "cells": [
  {
   "cell_type": "markdown",
   "metadata": {},
   "source": [
    "# Condensed Matter Physics\n",
    "\n",
    "University of Sydney\n",
    "April 2020\n",
    "\n",
    "## Lecture 2\n",
    "Physics of solids without considering microscopic structure: Drude Theory, Free Electron Theory"
   ]
  },
  {
   "cell_type": "markdown",
   "metadata": {},
   "source": [
    "### Failures of the Drude model\n",
    "\n",
    "* Despite this correct prediction, there are some serious problem with the Drude model.\n",
    "\n",
    "* It is fortuitous - since the measured specific heat is not close to:\n",
    "\n",
    "$$ c_v=\\frac{3}{2}k_B \\tag{per electron}$$\n",
    "\n",
    "* For a roughly 100 times larger value of the Peltier coefficient\n",
    "\n",
    "$$ \\boldsymbol{j}^q = \\prod j$$\n",
    "\n",
    "### Peltier effect\n",
    "\n",
    "The Peltier effect is that running a current through a material also transports heat.\n",
    "\n",
    "$$ \\boldsymbol{j}^q = \\frac{1}{3}(c_vT)n\\boldsymbol{v} \\tag{thermal current} $$\n",
    "\n",
    "$$ \\boldsymbol{j} = - en\\boldsymbol{v} \\tag{electrical current} $$\n",
    "\n",
    "$$ \\prod = \\frac{-c_vT}{3e} = \\frac{-k_BT}{2e}$$\n",
    "\n",
    "### Seebeck effect\n",
    "\n",
    "The ratio known as the thermopower or Seebeck coefficient:\n",
    "\n",
    "$$ S = \\frac{\\prod}{T} = \\frac{-k_B}{2e} \\approx -4.3\\times10^{-4}$$\n",
    "\n",
    "* For most metals value is roughly 100 times smaller.\n",
    "\n",
    "### The electronic properties of Metals: Quantum mechanical approach\n",
    "\n",
    "### The Born-Oppenheimer principle / the adiabatic approximation\n",
    "\n",
    "\n",
    "\n"
   ]
  },
  {
   "cell_type": "code",
   "execution_count": null,
   "metadata": {},
   "outputs": [],
   "source": []
  }
 ],
 "metadata": {
  "language_info": {
   "name": "python",
   "codemirror_mode": {
    "name": "ipython",
    "version": 3
   }
  },
  "orig_nbformat": 2,
  "file_extension": ".py",
  "mimetype": "text/x-python",
  "name": "python",
  "npconvert_exporter": "python",
  "pygments_lexer": "ipython3",
  "version": 3
 },
 "nbformat": 4,
 "nbformat_minor": 2
}